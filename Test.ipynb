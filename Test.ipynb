{
 "cells": [
  {
   "cell_type": "code",
   "execution_count": 4,
   "metadata": {},
   "outputs": [],
   "source": [
    "import pickle"
   ]
  },
  {
   "cell_type": "code",
   "execution_count": 8,
   "metadata": {},
   "outputs": [],
   "source": [
    "\n",
    "filename = 'finalized_lda__model_all_pdf_1.sav'\n",
    "# some time later...\n",
    "# load the model from disk\n",
    "loaded_model = pickle.load(open(filename, 'rb'))"
   ]
  },
  {
   "cell_type": "code",
   "execution_count": 7,
   "metadata": {},
   "outputs": [
    {
     "name": "stdout",
     "output_type": "stream",
     "text": [
      "512.txt\n"
     ]
    },
    {
     "name": "stderr",
     "output_type": "stream",
     "text": [
      "/home/rutvik/.local/lib/python2.7/site-packages/sklearn/utils/__init__.py:9: RuntimeWarning: numpy.dtype size changed, may indicate binary incompatibility. Expected 96, got 88\n",
      "  from .murmurhash import murmurhash3_32\n",
      "/home/rutvik/.local/lib/python2.7/site-packages/sklearn/feature_extraction/hashing.py:10: RuntimeWarning: numpy.dtype size changed, may indicate binary incompatibility. Expected 96, got 88\n",
      "  from . import _hashing\n",
      "/home/rutvik/.local/lib/python2.7/site-packages/sklearn/utils/extmath.py:24: RuntimeWarning: numpy.dtype size changed, may indicate binary incompatibility. Expected 96, got 88\n",
      "  from ._logistic_sigmoid import _log_logistic_sigmoid\n",
      "/home/rutvik/.local/lib/python2.7/site-packages/sklearn/utils/extmath.py:26: RuntimeWarning: numpy.dtype size changed, may indicate binary incompatibility. Expected 96, got 88\n",
      "  from .sparsefuncs_fast import csr_row_norms\n",
      "/home/rutvik/.local/lib/python2.7/site-packages/scipy/io/matlab/mio4.py:18: RuntimeWarning: numpy.dtype size changed, may indicate binary incompatibility. Expected 96, got 88\n",
      "  from .mio_utils import squeeze_element, chars_to_strings\n",
      "/home/rutvik/.local/lib/python2.7/site-packages/scipy/io/matlab/mio5.py:98: RuntimeWarning: numpy.dtype size changed, may indicate binary incompatibility. Expected 96, got 88\n",
      "  from .mio5_utils import VarReader5\n",
      "/home/rutvik/.local/lib/python2.7/site-packages/sklearn/utils/random.py:10: RuntimeWarning: numpy.dtype size changed, may indicate binary incompatibility. Expected 96, got 88\n",
      "  from ._random import sample_without_replacement\n",
      "/home/rutvik/.local/lib/python2.7/site-packages/sklearn/datasets/svmlight_format.py:25: RuntimeWarning: numpy.dtype size changed, may indicate binary incompatibility. Expected 96, got 88\n",
      "  from ._svmlight_format import _load_svmlight_file\n",
      "/home/rutvik/.local/lib/python2.7/site-packages/sklearn/svm/base.py:8: RuntimeWarning: numpy.dtype size changed, may indicate binary incompatibility. Expected 96, got 88\n",
      "  from . import libsvm, liblinear\n",
      "/home/rutvik/.local/lib/python2.7/site-packages/sklearn/svm/base.py:9: RuntimeWarning: numpy.dtype size changed, may indicate binary incompatibility. Expected 96, got 88\n",
      "  from . import libsvm_sparse\n",
      "/home/rutvik/.local/lib/python2.7/site-packages/sklearn/linear_model/base.py:35: RuntimeWarning: numpy.dtype size changed, may indicate binary incompatibility. Expected 96, got 88\n",
      "  from ..utils.seq_dataset import ArrayDataset, CSRDataset\n",
      "/home/rutvik/.local/lib/python2.7/site-packages/sklearn/linear_model/least_angle.py:23: RuntimeWarning: numpy.dtype size changed, may indicate binary incompatibility. Expected 96, got 88\n",
      "  from ..utils import arrayfuncs, as_float_array, check_X_y, deprecated\n",
      "/home/rutvik/.local/lib/python2.7/site-packages/sklearn/metrics/cluster/supervised.py:23: RuntimeWarning: numpy.dtype size changed, may indicate binary incompatibility. Expected 96, got 88\n",
      "  from .expected_mutual_info_fast import expected_mutual_information\n",
      "/home/rutvik/.local/lib/python2.7/site-packages/sklearn/metrics/pairwise.py:30: RuntimeWarning: numpy.dtype size changed, may indicate binary incompatibility. Expected 96, got 88\n",
      "  from .pairwise_fast import _chi2_kernel_fast, _sparse_manhattan\n",
      "/home/rutvik/.local/lib/python2.7/site-packages/sklearn/linear_model/coordinate_descent.py:29: RuntimeWarning: numpy.dtype size changed, may indicate binary incompatibility. Expected 96, got 88\n",
      "  from . import cd_fast\n",
      "/home/rutvik/.local/lib/python2.7/site-packages/sklearn/linear_model/__init__.py:22: RuntimeWarning: numpy.dtype size changed, may indicate binary incompatibility. Expected 96, got 88\n",
      "  from .sgd_fast import Hinge, Log, ModifiedHuber, SquaredLoss, Huber\n",
      "/home/rutvik/.local/lib/python2.7/site-packages/sklearn/linear_model/sag.py:12: RuntimeWarning: numpy.dtype size changed, may indicate binary incompatibility. Expected 96, got 88\n",
      "  from .sag_fast import sag\n",
      "/home/rutvik/.local/lib/python2.7/site-packages/sklearn/neighbors/__init__.py:6: RuntimeWarning: numpy.dtype size changed, may indicate binary incompatibility. Expected 96, got 88\n",
      "  from .ball_tree import BallTree\n",
      "/home/rutvik/.local/lib/python2.7/site-packages/sklearn/neighbors/__init__.py:7: RuntimeWarning: numpy.dtype size changed, may indicate binary incompatibility. Expected 96, got 88\n",
      "  from .kd_tree import KDTree\n"
     ]
    },
    {
     "ename": "NameError",
     "evalue": "name 'generate_corpus_for_lda' is not defined",
     "output_type": "error",
     "traceback": [
      "\u001b[0;31m---------------------------------------------------------------------------\u001b[0m",
      "\u001b[0;31mNameError\u001b[0m                                 Traceback (most recent call last)",
      "\u001b[0;32m<ipython-input-7-0d57c2ea96c4>\u001b[0m in \u001b[0;36m<module>\u001b[0;34m()\u001b[0m\n\u001b[1;32m      9\u001b[0m         \u001b[0mtest_file\u001b[0m\u001b[0;34m.\u001b[0m\u001b[0mclose\u001b[0m\u001b[0;34m(\u001b[0m\u001b[0;34m)\u001b[0m\u001b[0;34m\u001b[0m\u001b[0m\n\u001b[1;32m     10\u001b[0m         \u001b[0mtest_file_1\u001b[0m \u001b[0;34m=\u001b[0m \u001b[0municode\u001b[0m\u001b[0;34m(\u001b[0m\u001b[0mtest_file_1\u001b[0m\u001b[0;34m,\u001b[0m \u001b[0merrors\u001b[0m\u001b[0;34m=\u001b[0m\u001b[0;34m'ignore'\u001b[0m\u001b[0;34m)\u001b[0m\u001b[0;34m\u001b[0m\u001b[0m\n\u001b[0;32m---> 11\u001b[0;31m         \u001b[0mtest_corpus\u001b[0m\u001b[0;34m=\u001b[0m\u001b[0mgenerate_corpus_for_lda\u001b[0m\u001b[0;34m(\u001b[0m\u001b[0mtest_file_1\u001b[0m\u001b[0;34m)\u001b[0m\u001b[0;34m\u001b[0m\u001b[0m\n\u001b[0m\u001b[1;32m     12\u001b[0m         \u001b[0;31m#print test_corpus\u001b[0m\u001b[0;34m\u001b[0m\u001b[0;34m\u001b[0m\u001b[0m\n\u001b[1;32m     13\u001b[0m         \u001b[0;31m#print test_file\u001b[0m\u001b[0;34m\u001b[0m\u001b[0;34m\u001b[0m\u001b[0m\n",
      "\u001b[0;31mNameError\u001b[0m: name 'generate_corpus_for_lda' is not defined"
     ]
    }
   ],
   "source": [
    "#testing document\n",
    "import os\n",
    "from nltk.tokenize import word_tokenize\n",
    "for i in os.listdir('./Got text files/'):\n",
    "        print i        \n",
    "        test_file_path=\"./Got text files/\"+str(i)\n",
    "        test_file=open(test_file_path)\n",
    "        test_file_1=test_file.read()\n",
    "        test_file.close()\n",
    "        test_file_1 = unicode(test_file_1, errors='ignore')\n",
    "        test_corpus=generate_corpus_for_lda(test_file_1)\n",
    "        #print test_corpus\n",
    "        #print test_file\n",
    "        temp_corpus_vectors=[dictionary.doc2bow(test_corpus)]\n",
    "        print(lda[temp_corpus_vectors])\n",
    "        for item in lda[temp_corpus_vectors]:\n",
    "            for subitem in item:\n",
    "                print(\"topic no \"+str(subitem[0])+\" with probability \"+str(subitem[1]))\n",
    "                print(lda.print_topic(int(subitem[0]))) #\n",
    "                print('\\n')"
   ]
  },
  {
   "cell_type": "code",
   "execution_count": 9,
   "metadata": {},
   "outputs": [
    {
     "data": {
      "text/plain": [
       "[(0,\n",
       "  u'0.004*\"said\" + 0.003*\"ned\" + 0.003*\"lord\" + 0.002*\"would\" + 0.002*\"littlefinger\" + 0.002*\"could\" + 0.002*\"king\" + 0.001*\"man\" + 0.001*\"ser\" + 0.001*\"like\"'),\n",
       " (1,\n",
       "  u'0.001*\"said\" + 0.001*\"know\" + 0.001*\"doge\" + 0.001*\"tyrion\" + 0.001*\"muriel\" + 0.001*\"never\" + 0.001*\"look\" + 0.001*\"bronn\" + 0.001*\"hagrid\" + 0.001*\"thought\"'),\n",
       " (2,\n",
       "  u'0.002*\"bran\" + 0.001*\"wand\" + 0.001*\"man\" + 0.001*\"light\" + 0.001*\"eyes\" + 0.001*\"woman\" + 0.001*\"ser\" + 0.001*\"english\" + 0.001*\"said\" + 0.001*\"ollivander\"'),\n",
       " (3,\n",
       "  u'0.017*\"harry\" + 0.011*\"said\" + 0.007*\"hermione\" + 0.006*\"ron\" + 0.003*\"could\" + 0.003*\"back\" + 0.003*\"know\" + 0.003*\"would\" + 0.003*\"wand\" + 0.003*\"dumbledore\"'),\n",
       " (4,\n",
       "  u'0.003*\"said\" + 0.002*\"dany\" + 0.002*\"would\" + 0.002*\"lord\" + 0.002*\"could\" + 0.002*\"khal\" + 0.001*\"jon\" + 0.001*\"father\" + 0.001*\"eyes\" + 0.001*\"ser\"'),\n",
       " (5,\n",
       "  u'0.001*\"dany\" + 0.000*\"vernon\" + 0.000*\"crow\" + 0.000*\"gunthor\" + 0.000*\"ground\" + 0.000*\"uncle\" + 0.000*\"bran\" + 0.000*\"silver\" + 0.000*\"heat\" + 0.000*\"louder\"'),\n",
       " (6,\n",
       "  u'0.013*\"langdon\" + 0.005*\"vittoria\" + 0.004*\"camerlegno\" + 0.004*\"said\" + 0.003*\"could\" + 0.002*\"one\" + 0.002*\"like\" + 0.002*\"would\" + 0.002*\"illuminati\" + 0.002*\"vatican\"'),\n",
       " (7,\n",
       "  u'0.001*\"ser\" + 0.001*\"could\" + 0.001*\"around\" + 0.001*\"jon\" + 0.001*\"said\" + 0.001*\"would\" + 0.001*\"boy\" + 0.001*\"door\" + 0.001*\"hand\" + 0.001*\"back\"'),\n",
       " (8,\n",
       "  u'0.004*\"said\" + 0.002*\"would\" + 0.002*\"could\" + 0.002*\"ser\" + 0.002*\"jon\" + 0.002*\"like\" + 0.002*\"lord\" + 0.002*\"man\" + 0.001*\"one\" + 0.001*\"men\"'),\n",
       " (9,\n",
       "  u'0.004*\"lord\" + 0.004*\"said\" + 0.002*\"ned\" + 0.002*\"ser\" + 0.001*\"like\" + 0.001*\"back\" + 0.001*\"would\" + 0.001*\"men\" + 0.001*\"us\" + 0.001*\"tyrion\"'),\n",
       " (10,\n",
       "  u'0.003*\"said\" + 0.003*\"jon\" + 0.003*\"would\" + 0.002*\"one\" + 0.002*\"could\" + 0.002*\"lord\" + 0.002*\"like\" + 0.002*\"tyrion\" + 0.001*\"camerlegno\" + 0.001*\"back\"'),\n",
       " (11,\n",
       "  u'0.002*\"would\" + 0.002*\"said\" + 0.002*\"could\" + 0.002*\"man\" + 0.002*\"like\" + 0.001*\"one\" + 0.001*\"back\" + 0.001*\"tyrion\" + 0.001*\"father\" + 0.001*\"lord\"'),\n",
       " (12,\n",
       "  u'0.003*\"said\" + 0.002*\"would\" + 0.002*\"could\" + 0.002*\"like\" + 0.002*\"one\" + 0.002*\"lord\" + 0.001*\"back\" + 0.001*\"ned\" + 0.001*\"eyes\" + 0.001*\"man\"'),\n",
       " (13,\n",
       "  u'0.003*\"said\" + 0.002*\"ser\" + 0.002*\"would\" + 0.002*\"one\" + 0.002*\"lord\" + 0.001*\"tyrion\" + 0.001*\"kreacher\" + 0.001*\"back\" + 0.001*\"could\" + 0.001*\"men\"'),\n",
       " (14,\n",
       "  u'0.005*\"said\" + 0.002*\"could\" + 0.002*\"harry\" + 0.002*\"like\" + 0.002*\"back\" + 0.001*\"one\" + 0.001*\"would\" + 0.001*\"lord\" + 0.001*\"wand\" + 0.001*\"looked\"'),\n",
       " (15,\n",
       "  u'0.005*\"said\" + 0.002*\"ser\" + 0.002*\"would\" + 0.002*\"ned\" + 0.002*\"lord\" + 0.002*\"king\" + 0.002*\"back\" + 0.002*\"sansa\" + 0.002*\"arya\" + 0.001*\"dany\"'),\n",
       " (16,\n",
       "  u'0.005*\"said\" + 0.003*\"would\" + 0.003*\"lord\" + 0.002*\"one\" + 0.002*\"could\" + 0.002*\"ned\" + 0.002*\"catelyn\" + 0.002*\"like\" + 0.001*\"father\" + 0.001*\"see\"'),\n",
       " (17,\n",
       "  u'0.005*\"said\" + 0.002*\"one\" + 0.002*\"langdon\" + 0.002*\"could\" + 0.002*\"vittoria\" + 0.001*\"back\" + 0.001*\"would\" + 0.001*\"father\" + 0.001*\"lord\" + 0.001*\"like\"'),\n",
       " (18,\n",
       "  u'0.003*\"said\" + 0.002*\"one\" + 0.002*\"lord\" + 0.002*\"tyrion\" + 0.001*\"would\" + 0.001*\"man\" + 0.001*\"robb\" + 0.001*\"lannister\" + 0.001*\"bran\" + 0.001*\"hand\"'),\n",
       " (19,\n",
       "  u'0.006*\"langdon\" + 0.003*\"one\" + 0.002*\"said\" + 0.002*\"like\" + 0.002*\"would\" + 0.002*\"vittoria\" + 0.002*\"could\" + 0.002*\"looked\" + 0.002*\"back\" + 0.001*\"man\"')]"
      ]
     },
     "execution_count": 9,
     "metadata": {},
     "output_type": "execute_result"
    }
   ],
   "source": [
    "loaded_model.print_topics(100)"
   ]
  },
  {
   "cell_type": "code",
   "execution_count": null,
   "metadata": {},
   "outputs": [],
   "source": []
  }
 ],
 "metadata": {
  "kernelspec": {
   "display_name": "Python 2",
   "language": "python",
   "name": "python2"
  },
  "language_info": {
   "codemirror_mode": {
    "name": "ipython",
    "version": 2
   },
   "file_extension": ".py",
   "mimetype": "text/x-python",
   "name": "python",
   "nbconvert_exporter": "python",
   "pygments_lexer": "ipython2",
   "version": "2.7.13"
  }
 },
 "nbformat": 4,
 "nbformat_minor": 2
}
